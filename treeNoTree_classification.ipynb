{
 "cells": [
  {
   "cell_type": "code",
   "execution_count": 173,
   "metadata": {},
   "outputs": [],
   "source": [
    "import torch\n",
    "import torchvision\n",
    "import torchvision.transforms as transforms\n",
    "from torch.utils.data import DataLoader, random_split, Subset\n",
    "import torchvision.models as models\n",
    "import torch.nn as nn\n",
    "import torch.optim as optim\n",
    "from tqdm import tqdm\n",
    "import numpy as np\n",
    "from collections import Counter\n",
    "from sklearn.metrics import classification_report\n",
    "from PIL import Image\n",
    "import os\n",
    "import shutil"
   ]
  },
  {
   "cell_type": "code",
   "execution_count": 174,
   "metadata": {},
   "outputs": [],
   "source": [
    "# condition of the tree\n",
    "condition = \"Zeer-Slecht\""
   ]
  },
  {
   "cell_type": "code",
   "execution_count": 175,
   "metadata": {},
   "outputs": [],
   "source": [
    "# transofrm images while loading\n",
    "\n",
    "transform = transforms.Compose([\n",
    "    transforms.Resize((224, 224)),  # Resize the image to 224x224\n",
    "    transforms.ToTensor(),           # Convert the image to a PyTorch tensor\n",
    "    transforms.Normalize(mean=[0.485, 0.456, 0.406], std=[0.229, 0.224, 0.225])  # Normalize the image\n",
    "])"
   ]
  },
  {
   "cell_type": "code",
   "execution_count": 176,
   "metadata": {},
   "outputs": [],
   "source": [
    "data_path = \"data/trees/\" + condition + \"/unfiltered/images/\""
   ]
  },
  {
   "cell_type": "code",
   "execution_count": 177,
   "metadata": {},
   "outputs": [],
   "source": [
    "resnet_dict = torch.load(\"resnet18_model.pt\")"
   ]
  },
  {
   "cell_type": "code",
   "execution_count": 178,
   "metadata": {},
   "outputs": [],
   "source": [
    "resnet18 = models.resnet18(pretrained=True)\n",
    "num_classes = 2\n",
    "resnet18.fc = nn.Linear(resnet18.fc.in_features, num_classes)\n",
    "resnet18.load_state_dict(resnet_dict)\n",
    "\n",
    "resnet18.eval()\n",
    "\n",
    "# Define transformations to be applied to your images\n",
    "transform = transforms.Compose([\n",
    "    transforms.Resize((224, 224)),  # Resize the image to 224x224\n",
    "    transforms.ToTensor(),           # Convert the image to a PyTorch tensor\n",
    "    transforms.Normalize(mean=[0.485, 0.456, 0.406], std=[0.229, 0.224, 0.225])  # Normalize the image\n",
    "])\n"
   ]
  },
  {
   "cell_type": "code",
   "execution_count": 179,
   "metadata": {},
   "outputs": [],
   "source": [
    "data_path = \"data/trees/\" + condition + \"/unfiltered/images/\"\n"
   ]
  },
  {
   "cell_type": "code",
   "execution_count": 180,
   "metadata": {},
   "outputs": [
    {
     "name": "stderr",
     "output_type": "stream",
     "text": [
      "100%|██████████| 131/131 [00:04<00:00, 28.48it/s]\n"
     ]
    }
   ],
   "source": [
    "predicted_labels = []\n",
    "filenames_trees = []\n",
    "for filename in tqdm(os.listdir(data_path)):\n",
    "    # Check if the file is an image file\n",
    "    if filename.endswith(\".jpg\") or filename.endswith(\".png\"):\n",
    "        # Load the image\n",
    "        image_path = os.path.join(data_path, filename)\n",
    "\n",
    "        if os.path.exists(image_path):\n",
    "\n",
    "            try:\n",
    "                image = Image.open(image_path)\n",
    "\n",
    "                if image.mode != 'RGB':\n",
    "                    image = image.convert('RGB')\n",
    "\n",
    "                # Apply transformations\n",
    "                image = transform(image).unsqueeze(0)  # Add batch dimension\n",
    "                with torch.no_grad():\n",
    "                    outputs = resnet18(image)\n",
    "                    _, predicted = torch.max(outputs.data,1)\n",
    "                    predicted_labels.append(predicted.item())\n",
    "                    if predicted == 1:\n",
    "                        filenames_trees.append(filename)\n",
    "            except:\n",
    "                print(\"Could not open file name: \", filename)\n",
    "        else:\n",
    "            print(\"Skipped file name: \", filename)"
   ]
  },
  {
   "cell_type": "code",
   "execution_count": 181,
   "metadata": {},
   "outputs": [
    {
     "data": {
      "text/plain": [
       "131"
      ]
     },
     "execution_count": 181,
     "metadata": {},
     "output_type": "execute_result"
    }
   ],
   "source": [
    "len(predicted_labels)"
   ]
  },
  {
   "cell_type": "code",
   "execution_count": 182,
   "metadata": {},
   "outputs": [
    {
     "data": {
      "text/plain": [
       "87"
      ]
     },
     "execution_count": 182,
     "metadata": {},
     "output_type": "execute_result"
    }
   ],
   "source": [
    "len(filenames_trees)"
   ]
  },
  {
   "cell_type": "code",
   "execution_count": 183,
   "metadata": {},
   "outputs": [
    {
     "data": {
      "text/plain": [
       "'tree_123.jpg'"
      ]
     },
     "execution_count": 183,
     "metadata": {},
     "output_type": "execute_result"
    }
   ],
   "source": [
    "filenames_trees[0]"
   ]
  },
  {
   "cell_type": "code",
   "execution_count": 184,
   "metadata": {},
   "outputs": [],
   "source": [
    "destination_folder = \"./data/trees_classified/\" + condition + \"/\""
   ]
  },
  {
   "cell_type": "code",
   "execution_count": 185,
   "metadata": {},
   "outputs": [
    {
     "name": "stderr",
     "output_type": "stream",
     "text": [
      "100%|██████████| 87/87 [00:00<00:00, 5614.17it/s]\n"
     ]
    }
   ],
   "source": [
    "for image in tqdm(filenames_trees):\n",
    "    shutil.copy(data_path + image, destination_folder)"
   ]
  }
 ],
 "metadata": {
  "kernelspec": {
   "display_name": "deep-learning",
   "language": "python",
   "name": "python3"
  },
  "language_info": {
   "codemirror_mode": {
    "name": "ipython",
    "version": 3
   },
   "file_extension": ".py",
   "mimetype": "text/x-python",
   "name": "python",
   "nbconvert_exporter": "python",
   "pygments_lexer": "ipython3",
   "version": "3.12.2"
  }
 },
 "nbformat": 4,
 "nbformat_minor": 2
}
